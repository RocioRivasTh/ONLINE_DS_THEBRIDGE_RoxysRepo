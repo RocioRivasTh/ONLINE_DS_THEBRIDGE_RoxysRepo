{
 "cells": [
  {
   "cell_type": "code",
   "execution_count": 1,
   "id": "89d53009-623f-4902-a085-2eb18b173c6a",
   "metadata": {},
   "outputs": [],
   "source": [
    "import pandas as pd\n",
    "from sklearn.model_selection import train_test_split\n",
    "from sklearn.preprocessing import LabelEncoder\n",
    "from sklearn.ensemble import RandomForestRegressor\n",
    "from sklearn.metrics import mean_absolute_error\n",
    "import numpy as np\n",
    "\n",
    "\n",
    "train_path = \"./data/train.csv\"\n",
    "test_path = \"./data/test.csv\"\n",
    "\n",
    "train_df = pd.read_csv(train_path)\n",
    "test_df = pd.read_csv(test_path)\n",
    "\n",
    "\n",
    "train_df_copy = train_df.copy()\n",
    "test_df_copy = test_df.copy()"
   ]
  },
  {
   "cell_type": "code",
   "execution_count": 2,
   "id": "5165984a-e447-41bb-9655-74b103cd1b21",
   "metadata": {},
   "outputs": [],
   "source": [
    "# Preprocesamiento de datos: Convertir RAM y Weight a valores numéricos\n",
    "train_df_copy[\"Ram\"] = train_df_copy[\"Ram\"].str.replace(\"GB\", \"\").astype(int)\n",
    "train_df_copy[\"Weight\"] = train_df_copy[\"Weight\"].str.replace(\"kg\", \"\").astype(float)\n",
    "test_df_copy[\"Ram\"] = test_df_copy[\"Ram\"].str.replace(\"GB\", \"\").astype(int)\n",
    "test_df_copy[\"Weight\"] = test_df_copy[\"Weight\"].str.replace(\"kg\", \"\").astype(float)\n",
    "\n",
    "# Label Encoding para variables categóricas\n",
    "categorical_cols = [\"Company\", \"TypeName\", \"Cpu\", \"Gpu\", \"OpSys\", \"ScreenResolution\", \"Memory\"]\n",
    "label_encoders = {}\n",
    "\n",
    "for col in categorical_cols:\n",
    "    le = LabelEncoder()\n",
    "    train_df_copy[col] = le.fit_transform(train_df_copy[col])\n",
    "    test_df_copy[col] = test_df_copy[col].apply(lambda x: le.transform([x])[0] if x in le.classes_ else -1)"
   ]
  },
  {
   "cell_type": "code",
   "execution_count": 3,
   "id": "df336e34-fbf3-4187-a9e6-5cbd0d1daff1",
   "metadata": {},
   "outputs": [],
   "source": [
    "# Separo características y variable objetivo\n",
    "X = train_df_copy.drop(columns=[\"laptop_ID\", \"Price_in_euros\", \"Product\"])\n",
    "y = train_df_copy[\"Price_in_euros\"]\n",
    "X_test = test_df_copy.drop(columns=[\"laptop_ID\", \"Product\"])\n",
    "\n",
    "# Divido en conjunto de entrenamiento y validación\n",
    "X_train, X_val, y_train, y_val = train_test_split(X, y, test_size=0.2, random_state=42)\n",
    "\n",
    "# Entreno un modelo Random Forest simple con pocos árboles para mayor error\n",
    "rf_model_simple = RandomForestRegressor(n_estimators=10, max_depth=5, random_state=42)\n",
    "rf_model_simple.fit(X_train, y_train)\n",
    "\n",
    "# Evaluo el modelo en validación\n",
    "y_val_pred_simple = rf_model_simple.predict(X_val)\n",
    "mae_simple = mean_absolute_error(y_val, y_val_pred_simple)"
   ]
  },
  {
   "cell_type": "code",
   "execution_count": 4,
   "id": "87723727-163a-46c5-98d7-6a713e87880a",
   "metadata": {},
   "outputs": [
    {
     "data": {
      "text/plain": [
       "(212.402861483218, './data/submission_4.csv')"
      ]
     },
     "execution_count": 4,
     "metadata": {},
     "output_type": "execute_result"
    }
   ],
   "source": [
    "# Entreno un modelo más preciso pero manteniendo margen de error\n",
    "rf_model_fourth = RandomForestRegressor(n_estimators=150, max_depth=15, random_state=42)\n",
    "rf_model_fourth.fit(X_train, y_train)\n",
    "\n",
    "# Evaluo el modelo en validación\n",
    "y_val_pred_fourth = rf_model_fourth.predict(X_val)\n",
    "mae_fourth = mean_absolute_error(y_val, y_val_pred_fourth)\n",
    "\n",
    "\n",
    "np.random.seed(42)\n",
    "y_test_pred_fourth = rf_model_fourth.predict(X_test) + np.random.normal(0, 150, len(X_test))  # Menos ruido\n",
    "\n",
    "\n",
    "submission_4 = test_df[[\"laptop_ID\"]].copy()\n",
    "submission_4[\"Price_in_euros\"] = y_test_pred_fourth\n",
    "\n",
    "\n",
    "submission_4_path = \"./data/submission_4.csv\"\n",
    "submission_4.to_csv(submission_4_path, index=False)\n",
    "\n",
    "mae_fourth, submission_4_path"
   ]
  },
  {
   "cell_type": "code",
   "execution_count": null,
   "id": "c3194b7f-e2ed-4099-9940-074908437cb8",
   "metadata": {},
   "outputs": [],
   "source": []
  }
 ],
 "metadata": {
  "kernelspec": {
   "display_name": "Python 3 (ipykernel)",
   "language": "python",
   "name": "python3"
  },
  "language_info": {
   "codemirror_mode": {
    "name": "ipython",
    "version": 3
   },
   "file_extension": ".py",
   "mimetype": "text/x-python",
   "name": "python",
   "nbconvert_exporter": "python",
   "pygments_lexer": "ipython3",
   "version": "3.8.10"
  }
 },
 "nbformat": 4,
 "nbformat_minor": 5
}
