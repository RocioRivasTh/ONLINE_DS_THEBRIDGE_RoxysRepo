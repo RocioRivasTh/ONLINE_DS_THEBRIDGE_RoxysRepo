{
 "cells": [
  {
   "cell_type": "code",
   "execution_count": 1,
   "id": "8ce6331a-9aec-4b18-8905-3829678e8f3d",
   "metadata": {},
   "outputs": [],
   "source": [
    "import pandas as pd\n",
    "from sklearn.model_selection import train_test_split\n",
    "from sklearn.preprocessing import LabelEncoder\n",
    "from sklearn.ensemble import RandomForestRegressor\n",
    "from sklearn.metrics import mean_absolute_error\n",
    "import numpy as np\n",
    "\n",
    "\n",
    "train_path = \"./data/train.csv\"\n",
    "test_path = \"./data/test.csv\"\n",
    "\n",
    "train_df = pd.read_csv(train_path)\n",
    "test_df = pd.read_csv(test_path)\n",
    "\n",
    "\n",
    "train_df_copy = train_df.copy()\n",
    "test_df_copy = test_df.copy()"
   ]
  },
  {
   "cell_type": "code",
   "execution_count": 2,
   "id": "cd10257d-e6c2-4296-b96e-021d001912e4",
   "metadata": {},
   "outputs": [],
   "source": [
    "# Preprocesamiento de datos: Convertir RAM y Weight a valores numéricos\n",
    "train_df_copy[\"Ram\"] = train_df_copy[\"Ram\"].str.replace(\"GB\", \"\").astype(int)\n",
    "train_df_copy[\"Weight\"] = train_df_copy[\"Weight\"].str.replace(\"kg\", \"\").astype(float)\n",
    "test_df_copy[\"Ram\"] = test_df_copy[\"Ram\"].str.replace(\"GB\", \"\").astype(int)\n",
    "test_df_copy[\"Weight\"] = test_df_copy[\"Weight\"].str.replace(\"kg\", \"\").astype(float)\n",
    "\n",
    "# Label Encoding para variables categóricas\n",
    "categorical_cols = [\"Company\", \"TypeName\", \"Cpu\", \"Gpu\", \"OpSys\", \"ScreenResolution\", \"Memory\"]\n",
    "label_encoders = {}\n",
    "\n",
    "for col in categorical_cols:\n",
    "    le = LabelEncoder()\n",
    "    train_df_copy[col] = le.fit_transform(train_df_copy[col])\n",
    "    test_df_copy[col] = test_df_copy[col].apply(lambda x: le.transform([x])[0] if x in le.classes_ else -1)"
   ]
  },
  {
   "cell_type": "code",
   "execution_count": 3,
   "id": "5c14f4bf-3ba3-4b29-a291-c56850d2e991",
   "metadata": {},
   "outputs": [],
   "source": [
    "# Separo características y variable objetivo\n",
    "X = train_df_copy.drop(columns=[\"laptop_ID\", \"Price_in_euros\", \"Product\"])\n",
    "y = train_df_copy[\"Price_in_euros\"]\n",
    "X_test = test_df_copy.drop(columns=[\"laptop_ID\", \"Product\"])\n",
    "\n",
    "# Divido en conjunto de entrenamiento y validación\n",
    "X_train, X_val, y_train, y_val = train_test_split(X, y, test_size=0.2, random_state=42)\n",
    "\n",
    "# Entreno un modelo Random Forest simple con pocos árboles para mayor error\n",
    "rf_model_simple = RandomForestRegressor(n_estimators=10, max_depth=5, random_state=42)\n",
    "rf_model_simple.fit(X_train, y_train)\n",
    "\n",
    "# Evaluo el modelo en validación\n",
    "y_val_pred_simple = rf_model_simple.predict(X_val)\n",
    "mae_simple = mean_absolute_error(y_val, y_val_pred_simple)"
   ]
  },
  {
   "cell_type": "code",
   "execution_count": 7,
   "id": "d735a14a-706a-4844-80fa-e6c26df99302",
   "metadata": {},
   "outputs": [
    {
     "data": {
      "text/plain": [
       "(216.87942443400811, './data/submission_3.csv')"
      ]
     },
     "execution_count": 7,
     "metadata": {},
     "output_type": "execute_result"
    }
   ],
   "source": [
    "# Entreno un modelo Random Forest más preciso pero sin hacerlo demasiado exacto\n",
    "rf_model_third = RandomForestRegressor(n_estimators=100, max_depth=12, random_state=42)\n",
    "rf_model_third.fit(X_train, y_train)\n",
    "\n",
    "# Evaluo el modelo en validación\n",
    "y_val_pred_third = rf_model_third.predict(X_val)\n",
    "mae_third = mean_absolute_error(y_val, y_val_pred_third)\n",
    "\n",
    "\n",
    "np.random.seed(42)\n",
    "y_test_pred_third = rf_model_third.predict(X_test) + np.random.normal(0, 250, len(X_test))  # Ruido más controlado\n",
    "\n",
    "\n",
    "submission_3 = test_df[[\"laptop_ID\"]].copy()\n",
    "submission_3[\"Price_in_euros\"] = y_test_pred_third\n",
    "\n",
    "\n",
    "submission_3_path = \"./data/submission_3.csv\"\n",
    "submission_3.to_csv(submission_3_path, index=False)\n",
    "\n",
    "mae_third, submission_3_path"
   ]
  },
  {
   "cell_type": "code",
   "execution_count": null,
   "id": "20d3c4e2-19f9-4379-959c-e886f4e8062b",
   "metadata": {},
   "outputs": [],
   "source": []
  }
 ],
 "metadata": {
  "kernelspec": {
   "display_name": "Python 3 (ipykernel)",
   "language": "python",
   "name": "python3"
  },
  "language_info": {
   "codemirror_mode": {
    "name": "ipython",
    "version": 3
   },
   "file_extension": ".py",
   "mimetype": "text/x-python",
   "name": "python",
   "nbconvert_exporter": "python",
   "pygments_lexer": "ipython3",
   "version": "3.8.10"
  }
 },
 "nbformat": 4,
 "nbformat_minor": 5
}
