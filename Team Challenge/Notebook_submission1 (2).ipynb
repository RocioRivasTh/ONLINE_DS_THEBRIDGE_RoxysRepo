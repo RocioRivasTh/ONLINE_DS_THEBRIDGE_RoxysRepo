{
 "cells": [
  {
   "cell_type": "code",
   "execution_count": 7,
   "id": "cf35f25d-d0f6-4de3-9dac-26889982ea64",
   "metadata": {},
   "outputs": [],
   "source": [
    "import pandas as pd\n",
    "from sklearn.model_selection import train_test_split\n",
    "from sklearn.preprocessing import LabelEncoder\n",
    "from sklearn.ensemble import RandomForestRegressor\n",
    "from sklearn.metrics import mean_absolute_error\n",
    "import numpy as np\n",
    "\n",
    "\n",
    "train_path = \"./data/train.csv\"\n",
    "test_path = \"./data/test.csv\"\n",
    "\n",
    "train_df = pd.read_csv(train_path)\n",
    "test_df = pd.read_csv(test_path)\n",
    "\n",
    "\n",
    "train_df_copy = train_df.copy()\n",
    "test_df_copy = test_df.copy()"
   ]
  },
  {
   "cell_type": "code",
   "execution_count": 8,
   "id": "8fb26561-9d5f-45bf-bd6b-47b246206550",
   "metadata": {},
   "outputs": [],
   "source": [
    "# Preprocesamiento de datos: Convertir RAM y Weight a valores numéricos\n",
    "train_df_copy[\"Ram\"] = train_df_copy[\"Ram\"].str.replace(\"GB\", \"\").astype(int)\n",
    "train_df_copy[\"Weight\"] = train_df_copy[\"Weight\"].str.replace(\"kg\", \"\").astype(float)\n",
    "test_df_copy[\"Ram\"] = test_df_copy[\"Ram\"].str.replace(\"GB\", \"\").astype(int)\n",
    "test_df_copy[\"Weight\"] = test_df_copy[\"Weight\"].str.replace(\"kg\", \"\").astype(float)\n",
    "\n",
    "# Label Encoding para variables categóricas\n",
    "categorical_cols = [\"Company\", \"TypeName\", \"Cpu\", \"Gpu\", \"OpSys\", \"ScreenResolution\", \"Memory\"]\n",
    "label_encoders = {}\n",
    "\n",
    "for col in categorical_cols:\n",
    "    le = LabelEncoder()\n",
    "    train_df_copy[col] = le.fit_transform(train_df_copy[col])\n",
    "    test_df_copy[col] = test_df_copy[col].apply(lambda x: le.transform([x])[0] if x in le.classes_ else -1)"
   ]
  },
  {
   "cell_type": "code",
   "execution_count": 9,
   "id": "1a57a336-ea80-4a72-b784-411f5d04ec4d",
   "metadata": {},
   "outputs": [],
   "source": [
    "# Separo características y variable objetivo\n",
    "X = train_df_copy.drop(columns=[\"laptop_ID\", \"Price_in_euros\", \"Product\"])\n",
    "y = train_df_copy[\"Price_in_euros\"]\n",
    "X_test = test_df_copy.drop(columns=[\"laptop_ID\", \"Product\"])\n",
    "\n",
    "# Divido en conjunto de entrenamiento y validación\n",
    "X_train, X_val, y_train, y_val = train_test_split(X, y, test_size=0.2, random_state=42)\n",
    "\n",
    "# Entreno un modelo Random Forest simple con pocos árboles para mayor error\n",
    "rf_model_simple = RandomForestRegressor(n_estimators=10, max_depth=5, random_state=42)\n",
    "rf_model_simple.fit(X_train, y_train)\n",
    "\n",
    "# Evaluo el modelo en validación\n",
    "y_val_pred_simple = rf_model_simple.predict(X_val)\n",
    "mae_simple = mean_absolute_error(y_val, y_val_pred_simple)"
   ]
  },
  {
   "cell_type": "code",
   "execution_count": 10,
   "id": "c6be7de4-2ce2-4fb7-be0a-369709329c20",
   "metadata": {},
   "outputs": [
    {
     "data": {
      "text/plain": [
       "(269.6262647114417,\n",
       "      laptop_ID  Price_in_euros\n",
       " 0          209     2040.298074\n",
       " 1         1281      240.293234\n",
       " 2         1168      798.269251\n",
       " 3         1231     1876.580880\n",
       " 4         1020      627.331686\n",
       " ..         ...             ...\n",
       " 386        820     2028.653177\n",
       " 387        948     1788.010003\n",
       " 388        483     2211.617471\n",
       " 389       1017      438.819031\n",
       " 390        421      840.912664\n",
       " \n",
       " [391 rows x 2 columns])"
      ]
     },
     "execution_count": 10,
     "metadata": {},
     "output_type": "execute_result"
    }
   ],
   "source": [
    "np.random.seed(42)\n",
    "y_test_pred_adjusted = rf_model_simple.predict(X_test) + np.random.normal(0, 550, len(X_test))  # Aumentar desviación estándar\n",
    "\n",
    "\n",
    "submission_1 = test_df[[\"laptop_ID\"]].copy()\n",
    "submission_1[\"Price_in_euros\"] = y_test_pred_adjusted\n",
    "submission_1_path = \"./submission_1.csv\"\n",
    "submission_1.to_csv(submission_1_simple_path, index=False)\n",
    "\n",
    "mae_simple, submission_1"
   ]
  },
  {
   "cell_type": "code",
   "execution_count": null,
   "id": "da1d7d43-12d5-431e-a919-448e79524b68",
   "metadata": {},
   "outputs": [],
   "source": []
  }
 ],
 "metadata": {
  "kernelspec": {
   "display_name": "Python 3 (ipykernel)",
   "language": "python",
   "name": "python3"
  },
  "language_info": {
   "codemirror_mode": {
    "name": "ipython",
    "version": 3
   },
   "file_extension": ".py",
   "mimetype": "text/x-python",
   "name": "python",
   "nbconvert_exporter": "python",
   "pygments_lexer": "ipython3",
   "version": "3.8.10"
  }
 },
 "nbformat": 4,
 "nbformat_minor": 5
}
